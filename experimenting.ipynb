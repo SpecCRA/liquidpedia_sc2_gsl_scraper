{
 "cells": [
  {
   "cell_type": "markdown",
   "metadata": {},
   "source": [
    "# Setup"
   ]
  },
  {
   "cell_type": "code",
   "execution_count": 45,
   "metadata": {},
   "outputs": [],
   "source": [
    "import pandas as pd\n",
    "import regex\n",
    "import numpy as np\n",
    "import requests\n",
    "import pprint\n",
    "import time\n",
    "import json\n",
    "import re, string\n",
    "import datetime"
   ]
  },
  {
   "cell_type": "code",
   "execution_count": 48,
   "metadata": {},
   "outputs": [
    {
     "output_type": "stream",
     "name": "stdout",
     "text": "Version check:\npandas: 1.0.3\nnumpy: 1.18.3\nregex: 2.5.78\nrequests: 2.23.0\nre: 2.2.1\n"
    }
   ],
   "source": [
    "print('Version check:')\n",
    "print('pandas: {}'.format(pd.__version__))\n",
    "print('numpy: {}'.format(np.__version__))\n",
    "print('regex: {}'.format(regex.__version__))\n",
    "print('requests: {}'.format(requests.__version__))\n",
    "print('re: {}'.format(re.__version__))"
   ]
  },
  {
   "cell_type": "markdown",
   "metadata": {},
   "source": [
    "# API Scraping"
   ]
  },
  {
   "cell_type": "code",
   "execution_count": 5,
   "metadata": {},
   "outputs": [],
   "source": [
    "example = \"https://liquipedia.net/starcraft2/api.php?action=askargs&format=json&conditions=Has_tournament_name::2016%20Global%20StarCraft%20II%20League%20Season%201/Code%20S%7CHas_player_left_score::%2B%7CHas_player_right_score::%2B&printouts=Has_player_left%7CHas_player_right%7CHas_player_left_race%7CHas_player_right_race%7CHas_player_left_score%7CHas_player_right_score&7CHas_montth_and_day&parameters=limit%3D100%7Coffset%3D0\""
   ]
  },
  {
   "cell_type": "code",
   "execution_count": 6,
   "metadata": {},
   "outputs": [],
   "source": [
    "base_url = 'https://liquipedia.net/starcraft2/api.php'\n",
    "test_page = '2016_Global_StarCraft_II_League_Season_1/Code_S'\n",
    "\n",
    "headers = {\n",
    "    'User-Agent': 'GSL_data_scraper_TerranCraft',\n",
    "    'From': 'bxiao1816@gmail.com'\n",
    "}"
   ]
  },
  {
   "cell_type": "code",
   "execution_count": 7,
   "metadata": {},
   "outputs": [],
   "source": [
    "response = requests.get(example, headers=headers)"
   ]
  },
  {
   "cell_type": "code",
   "execution_count": 10,
   "metadata": {
    "tags": [
     "outputPrepend"
    ]
   },
   "outputs": [
    {
     "output_type": "stream",
     "name": "stdout",
     "text": "eague Season 1/Code S#Match Solar vs SpeeD at March 4, 2016 - 18:30 in Match 1\": {\"printouts\": {\"Has_player_left\": [\"Solar\"], \"Has_player_right\": [\"SpeeD\"], \"Has_player_left_race\": [\"z\"], \"Has_player_right_race\": [\"t\"], \"Has_player_left_score\": [2], \"Has_player_right_score\": [1]}, \"fulltext\": \"2016 Global StarCraft II League Season 1/Code S#Match Solar vs SpeeD at March 4, 2016 - 18:30 in Match 1\", \"fullurl\": \"https://liquipedia.net/starcraft2/2016_Global_StarCraft_II_League_Season_1/Code_S#Match_Solar_vs_SpeeD_at_March_4.2C_2016_-_18:30_in_Match_1\", \"namespace\": 0, \"exists\": \"1\", \"displaytitle\": \"2016 Global StarCraft II League Season 1: Code S\"}, \"2016 Global StarCraft II League Season 1/Code S#Match Solar vs soO at April 2, 2016 - 18:30 in Match 1\": {\"printouts\": {\"Has_player_left\": [\"Solar\"], \"Has_player_right\": [\"soO\"], \"Has_player_left_race\": [\"z\"], \"Has_player_right_race\": [\"z\"], \"Has_player_left_score\": [0], \"Has_player_right_score\": [2]}, \"fulltext\": \"2016 Global StarCraft II League Season 1/Code S#Match Solar vs soO at April 2, 2016 - 18:30 in Match 1\", \"fullurl\": \"https://liquipedia.net/starcraft2/2016_Global_StarCraft_II_League_Season_1/Code_S#Match_Solar_vs_soO_at_April_2.2C_2016_-_18:30_in_Match_1\", \"namespace\": 0, \"exists\": \"1\", \"displaytitle\": \"2016 Global StarCraft II League Season 1: Code S\"}, \"2016 Global StarCraft II League Season 1/Code S#Match Soulkey vs Bunny at February 24, 2016 - 18:30 in Match 5\": {\"printouts\": {\"Has_player_left\": [\"Soulkey\"], \"Has_player_right\": [\"Bunny\"], \"Has_player_left_race\": [\"z\"], \"Has_player_right_race\": [\"t\"], \"Has_player_left_score\": [1], \"Has_player_right_score\": [2]}, \"fulltext\": \"2016 Global StarCraft II League Season 1/Code S#Match Soulkey vs Bunny at February 24, 2016 - 18:30 in Match 5\", \"fullurl\": \"https://liquipedia.net/starcraft2/2016_Global_StarCraft_II_League_Season_1/Code_S#Match_Soulkey_vs_Bunny_at_February_24.2C_2016_-_18:30_in_Match_5\", \"namespace\": 0, \"exists\": \"1\", \"displaytitle\": \"2016 Global StarCraft II League Season 1: Code S\"}, \"2016 Global StarCraft II League Season 1/Code S#Match SpeeD vs Creator at March 4, 2016 - 18:30 in Match 4\": {\"printouts\": {\"Has_player_left\": [\"SpeeD\"], \"Has_player_right\": [\"Creator\"], \"Has_player_left_race\": [\"t\"], \"Has_player_right_race\": [\"p\"], \"Has_player_left_score\": [2], \"Has_player_right_score\": [1]}, \"fulltext\": \"2016 Global StarCraft II League Season 1/Code S#Match SpeeD vs Creator at March 4, 2016 - 18:30 in Match 4\", \"fullurl\": \"https://liquipedia.net/starcraft2/2016_Global_StarCraft_II_League_Season_1/Code_S#Match_SpeeD_vs_Creator_at_March_4.2C_2016_-_18:30_in_Match_4\", \"namespace\": 0, \"exists\": \"1\", \"displaytitle\": \"2016 Global StarCraft II League Season 1: Code S\"}, \"2016 Global StarCraft II League Season 1/Code S#Match SpeeD vs TaeJa at April 1, 2016 - 18:30 in Match 4\": {\"printouts\": {\"Has_player_left\": [\"SpeeD\"], \"Has_player_right\": [\"TaeJa\"], \"Has_player_left_race\": [\"t\"], \"Has_player_right_race\": [\"t\"], \"Has_player_left_score\": [0], \"Has_player_right_score\": [2]}, \"fulltext\": \"2016 Global StarCraft II League Season 1/Code S#Match SpeeD vs TaeJa at April 1, 2016 - 18:30 in Match 4\", \"fullurl\": \"https://liquipedia.net/starcraft2/2016_Global_StarCraft_II_League_Season_1/Code_S#Match_SpeeD_vs_TaeJa_at_April_1.2C_2016_-_18:30_in_Match_4\", \"namespace\": 0, \"exists\": \"1\", \"displaytitle\": \"2016 Global StarCraft II League Season 1: Code S\"}, \"2016 Global StarCraft II League Season 1/Code S#Match Stork vs Cure at February 26, 2016 - 18:30 in Match 2\": {\"printouts\": {\"Has_player_left\": [\"Stork\"], \"Has_player_right\": [\"Cure\"], \"Has_player_left_race\": [\"p\"], \"Has_player_right_race\": [\"t\"], \"Has_player_left_score\": [0], \"Has_player_right_score\": [2]}, \"fulltext\": \"2016 Global StarCraft II League Season 1/Code S#Match Stork vs Cure at February 26, 2016 - 18:30 in Match 2\", \"fullurl\": \"https://liquipedia.net/starcraft2/2016_Global_StarCraft_II_League_Season_1/Code_S#Match_Stork_vs_Cure_at_February_26.2C_2016_-_18:30_in_Match_2\", \"namespace\": 0, \"exists\": \"1\", \"displaytitle\": \"2016 Global StarCraft II League Season 1: Code S\"}, \"2016 Global StarCraft II League Season 1/Code S#Match Symbol vs Soulkey at February 24, 2016 - 18:30 in Match 2\": {\"printouts\": {\"Has_player_left\": [\"Symbol\"], \"Has_player_right\": [\"Soulkey\"], \"Has_player_left_race\": [\"z\"], \"Has_player_right_race\": [\"z\"], \"Has_player_left_score\": [0], \"Has_player_right_score\": [2]}, \"fulltext\": \"2016 Global StarCraft II League Season 1/Code S#Match Symbol vs Soulkey at February 24, 2016 - 18:30 in Match 2\", \"fullurl\": \"https://liquipedia.net/starcraft2/2016_Global_StarCraft_II_League_Season_1/Code_S#Match_Symbol_vs_Soulkey_at_February_24.2C_2016_-_18:30_in_Match_2\", \"namespace\": 0, \"exists\": \"1\", \"displaytitle\": \"2016 Global StarCraft II League Season 1: Code S\"}, \"2016 Global StarCraft II League Season 1/Code S#Match TY vs DeParture at March 2, 2016 - 18:30 in Match 1\": {\"printouts\": {\"Has_player_left\": [\"TY\"], \"Has_player_right\": [\"DeParture\"], \"Has_player_left_race\": [\"t\"], \"Has_player_right_race\": [\"z\"], \"Has_player_left_score\": [2], \"Has_player_right_score\": [0]}, \"fulltext\": \"2016 Global StarCraft II League Season 1/Code S#Match TY vs DeParture at March 2, 2016 - 18:30 in Match 1\", \"fullurl\": \"https://liquipedia.net/starcraft2/2016_Global_StarCraft_II_League_Season_1/Code_S#Match_TY_vs_DeParture_at_March_2.2C_2016_-_18:30_in_Match_1\", \"namespace\": 0, \"exists\": \"1\", \"displaytitle\": \"2016 Global StarCraft II League Season 1: Code S\"}, \"2016 Global StarCraft II League Season 1/Code S#Match TY vs MyuNgSiK at April 8, 2016 - 18:30 in Match 5\": {\"printouts\": {\"Has_player_left\": [\"TY\"], \"Has_player_right\": [\"MyuNgSiK\"], \"Has_player_left_race\": [\"t\"], \"Has_player_right_race\": [\"p\"], \"Has_player_left_score\": [2], \"Has_player_right_score\": [0]}, \"fulltext\": \"2016 Global StarCraft II League Season 1/Code S#Match TY vs MyuNgSiK at April 8, 2016 - 18:30 in Match 5\", \"fullurl\": \"https://liquipedia.net/starcraft2/2016_Global_StarCraft_II_League_Season_1/Code_S#Match_TY_vs_MyuNgSiK_at_April_8.2C_2016_-_18:30_in_Match_5\", \"namespace\": 0, \"exists\": \"1\", \"displaytitle\": \"2016 Global StarCraft II League Season 1: Code S\"}, \"2016 Global StarCraft II League Season 1/Code S#Match TY vs Trap at March 2, 2016 - 18:30 in Match 3\": {\"printouts\": {\"Has_player_left\": [\"TY\"], \"Has_player_right\": [\"Trap\"], \"Has_player_left_race\": [\"t\"], \"Has_player_right_race\": [\"p\"], \"Has_player_left_score\": [2], \"Has_player_right_score\": [0]}, \"fulltext\": \"2016 Global StarCraft II League Season 1/Code S#Match TY vs Trap at March 2, 2016 - 18:30 in Match 3\", \"fullurl\": \"https://liquipedia.net/starcraft2/2016_Global_StarCraft_II_League_Season_1/Code_S#Match_TY_vs_Trap_at_March_2.2C_2016_-_18:30_in_Match_3\", \"namespace\": 0, \"exists\": \"1\", \"displaytitle\": \"2016 Global StarCraft II League Season 1: Code S\"}, \"2016 Global StarCraft II League Season 1/Code S#Match TY vs Zest at May 1, 2016 - 17:00 in Match 12\": {\"printouts\": {\"Has_player_left\": [\"TY\"], \"Has_player_right\": [\"Zest\"], \"Has_player_left_race\": [\"t\"], \"Has_player_right_race\": [\"p\"], \"Has_player_left_score\": [2], \"Has_player_right_score\": [4]}, \"fulltext\": \"2016 Global StarCraft II League Season 1/Code S#Match TY vs Zest at May 1, 2016 - 17:00 in Match 12\", \"fullurl\": \"https://liquipedia.net/starcraft2/2016_Global_StarCraft_II_League_Season_1/Code_S#Match_TY_vs_Zest_at_May_1.2C_2016_-_17:00_in_Match_12\", \"namespace\": 0, \"exists\": \"1\", \"displaytitle\": \"2016 Global StarCraft II League Season 1: Code S\"}, \"2016 Global StarCraft II League Season 1/Code S#Match TaeJa vs Zest at April 15, 2016 - 18:30 in Match 8\": {\"printouts\": {\"Has_player_left\": [\"TaeJa\"], \"Has_player_right\": [\"Zest\"], \"Has_player_left_race\": [\"t\"], \"Has_player_right_race\": [\"p\"], \"Has_player_left_score\": [0], \"Has_player_right_score\": [3]}, \"fulltext\": \"2016 Global StarCraft II League Season 1/Code S#Match TaeJa vs Zest at April 15, 2016 - 18:30 in Match 8\", \"fullurl\": \"https://liquipedia.net/starcraft2/2016_Global_StarCraft_II_League_Season_1/Code_S#Match_TaeJa_vs_Zest_at_April_15.2C_2016_-_18:30_in_Match_8\", \"namespace\": 0, \"exists\": \"1\", \"displaytitle\": \"2016 Global StarCraft II League Season 1: Code S\"}, \"2016 Global StarCraft II League Season 1/Code S#Match TaeJa vs Zest at February 17, 2016 - 18:30 in Match 2\": {\"printouts\": {\"Has_player_left\": [\"TaeJa\"], \"Has_player_right\": [\"Zest\"], \"Has_player_left_race\": [\"t\"], \"Has_player_right_race\": [\"p\"], \"Has_player_left_score\": [0], \"Has_player_right_score\": [2]}, \"fulltext\": \"2016 Global StarCraft II League Season 1/Code S#Match TaeJa vs Zest at February 17, 2016 - 18:30 in Match 2\", \"fullurl\": \"https://liquipedia.net/starcraft2/2016_Global_StarCraft_II_League_Season_1/Code_S#Match_TaeJa_vs_Zest_at_February_17.2C_2016_-_18:30_in_Match_2\", \"namespace\": 0, \"exists\": \"1\", \"displaytitle\": \"2016 Global StarCraft II League Season 1: Code S\"}, \"2016 Global StarCraft II League Season 1/Code S#Match Trap vs Super at March 2, 2016 - 18:30 in Match 2\": {\"printouts\": {\"Has_player_left\": [\"Trap\"], \"Has_player_right\": [\"Super\"], \"Has_player_left_race\": [\"p\"], \"Has_player_right_race\": [\"p\"], \"Has_player_left_score\": [2], \"Has_player_right_score\": [0]}, \"fulltext\": \"2016 Global StarCraft II League Season 1/Code S#Match Trap vs Super at March 2, 2016 - 18:30 in Match 2\", \"fullurl\": \"https://liquipedia.net/starcraft2/2016_Global_StarCraft_II_League_Season_1/Code_S#Match_Trap_vs_Super_at_March_2.2C_2016_-_18:30_in_Match_2\", \"namespace\": 0, \"exists\": \"1\", \"displaytitle\": \"2016 Global StarCraft II League Season 1: Code S\"}, \"2016 Global StarCraft II League Season 1/Code S#Match Trap vs Super at March 2, 2016 - 18:30 in Match 5\": {\"printouts\": {\"Has_player_left\": [\"Trap\"], \"Has_player_right\": [\"Super\"], \"Has_player_left_race\": [\"p\"], \"Has_player_right_race\": [\"p\"], \"Has_player_left_score\": [2], \"Has_player_right_score\": [1]}, \"fulltext\": \"2016 Global StarCraft II League Season 1/Code S#Match Trap vs Super at March 2, 2016 - 18:30 in Match 5\", \"fullurl\": \"https://liquipedia.net/starcraft2/2016_Global_StarCraft_II_League_Season_1/Code_S#Match_Trap_vs_Super_at_March_2.2C_2016_-_18:30_in_Match_5\", \"namespace\": 0, \"exists\": \"1\", \"displaytitle\": \"2016 Global StarCraft II League Season 1: Code S\"}, \"2016 Global StarCraft II League Season 1/Code S#Match Trap vs TaeJa at April 1, 2016 - 18:30 in Match 2\": {\"printouts\": {\"Has_player_left\": [\"Trap\"], \"Has_player_right\": [\"TaeJa\"], \"Has_player_left_race\": [\"p\"], \"Has_player_right_race\": [\"t\"], \"Has_player_left_score\": [2], \"Has_player_right_score\": [1]}, \"fulltext\": \"2016 Global StarCraft II League Season 1/Code S#Match Trap vs TaeJa at April 1, 2016 - 18:30 in Match 2\", \"fullurl\": \"https://liquipedia.net/starcraft2/2016_Global_StarCraft_II_League_Season_1/Code_S#Match_Trap_vs_TaeJa_at_April_1.2C_2016_-_18:30_in_Match_2\", \"namespace\": 0, \"exists\": \"1\", \"displaytitle\": \"2016 Global StarCraft II League Season 1: Code S\"}, \"2016 Global StarCraft II League Season 1/Code S#Match Trap vs TaeJa at April 1, 2016 - 18:30 in Match 5\": {\"printouts\": {\"Has_player_left\": [\"Trap\"], \"Has_player_right\": [\"TaeJa\"], \"Has_player_left_race\": [\"p\"], \"Has_player_right_race\": [\"t\"], \"Has_player_left_score\": [0], \"Has_player_right_score\": [2]}, \"fulltext\": \"2016 Global StarCraft II League Season 1/Code S#Match Trap vs TaeJa at April 1, 2016 - 18:30 in Match 5\", \"fullurl\": \"https://liquipedia.net/starcraft2/2016_Global_StarCraft_II_League_Season_1/Code_S#Match_Trap_vs_TaeJa_at_April_1.2C_2016_-_18:30_in_Match_5\", \"namespace\": 0, \"exists\": \"1\", \"displaytitle\": \"2016 Global StarCraft II League Season 1: Code S\"}, \"2016 Global StarCraft II League Season 1/Code S#Match Zest vs Cure at April 2, 2016 - 18:30 in Match 2\": {\"printouts\": {\"Has_player_left\": [\"Zest\"], \"Has_player_right\": [\"Cure\"], \"Has_player_left_race\": [\"p\"], \"Has_player_right_race\": [\"t\"], \"Has_player_left_score\": [2], \"Has_player_right_score\": [0]}, \"fulltext\": \"2016 Global StarCraft II League Season 1/Code S#Match Zest vs Cure at April 2, 2016 - 18:30 in Match 2\", \"fullurl\": \"https://liquipedia.net/starcraft2/2016_Global_StarCraft_II_League_Season_1/Code_S#Match_Zest_vs_Cure_at_April_2.2C_2016_-_18:30_in_Match_2\", \"namespace\": 0, \"exists\": \"1\", \"displaytitle\": \"2016 Global StarCraft II League Season 1: Code S\"}, \"2016 Global StarCraft II League Season 1/Code S#Match Zest vs Dear at April 22, 2016 - 18:30 in Match 11\": {\"printouts\": {\"Has_player_left\": [\"Zest\"], \"Has_player_right\": [\"Dear\"], \"Has_player_left_race\": [\"p\"], \"Has_player_right_race\": [\"p\"], \"Has_player_left_score\": [4], \"Has_player_right_score\": [0]}, \"fulltext\": \"2016 Global StarCraft II League Season 1/Code S#Match Zest vs Dear at April 22, 2016 - 18:30 in Match 11\", \"fullurl\": \"https://liquipedia.net/starcraft2/2016_Global_StarCraft_II_League_Season_1/Code_S#Match_Zest_vs_Dear_at_April_22.2C_2016_-_18:30_in_Match_11\", \"namespace\": 0, \"exists\": \"1\", \"displaytitle\": \"2016 Global StarCraft II League Season 1: Code S\"}, \"2016 Global StarCraft II League Season 1/Code S#Match aLive vs Bbyong at March 9, 2016 - 18:30 in Match 4\": {\"printouts\": {\"Has_player_left\": [\"aLive\"], \"Has_player_right\": [\"Bbyong\"], \"Has_player_left_race\": [\"t\"], \"Has_player_right_race\": [\"t\"], \"Has_player_left_score\": [0], \"Has_player_right_score\": [0]}, \"fulltext\": \"2016 Global StarCraft II League Season 1/Code S#Match aLive vs Bbyong at March 9, 2016 - 18:30 in Match 4\", \"fullurl\": \"https://liquipedia.net/starcraft2/2016_Global_StarCraft_II_League_Season_1/Code_S#Match_aLive_vs_Bbyong_at_March_9.2C_2016_-_18:30_in_Match_4\", \"namespace\": 0, \"exists\": \"1\", \"displaytitle\": \"2016 Global StarCraft II League Season 1: Code S\"}, \"2016 Global StarCraft II League Season 1/Code S#Match herO vs Cure at April 13, 2016 - 18:30 in Match 6\": {\"printouts\": {\"Has_player_left\": [\"herO\"], \"Has_player_right\": [\"Cure\"], \"Has_player_left_race\": [\"p\"], \"Has_player_right_race\": [\"t\"], \"Has_player_left_score\": [1], \"Has_player_right_score\": [3]}, \"fulltext\": \"2016 Global StarCraft II League Season 1/Code S#Match herO vs Cure at April 13, 2016 - 18:30 in Match 6\", \"fullurl\": \"https://liquipedia.net/starcraft2/2016_Global_StarCraft_II_League_Season_1/Code_S#Match_herO_vs_Cure_at_April_13.2C_2016_-_18:30_in_Match_6\", \"namespace\": 0, \"exists\": \"1\", \"displaytitle\": \"2016 Global StarCraft II League Season 1: Code S\"}, \"2016 Global StarCraft II League Season 1/Code S#Match herO vs Dream at February 19, 2016 - 18:30 in Match 3\": {\"printouts\": {\"Has_player_left\": [\"herO\"], \"Has_player_right\": [\"Dream\"], \"Has_player_left_race\": [\"p\"], \"Has_player_right_race\": [\"t\"], \"Has_player_left_score\": [1], \"Has_player_right_score\": [2]}, \"fulltext\": \"2016 Global StarCraft II League Season 1/Code S#Match herO vs Dream at February 19, 2016 - 18:30 in Match 3\", \"fullurl\": \"https://liquipedia.net/starcraft2/2016_Global_StarCraft_II_League_Season_1/Code_S#Match_herO_vs_Dream_at_February_19.2C_2016_-_18:30_in_Match_3\", \"namespace\": 0, \"exists\": \"1\", \"displaytitle\": \"2016 Global StarCraft II League Season 1: Code S\"}, \"2016 Global StarCraft II League Season 1/Code S#Match herO vs Leenock at February 19, 2016 - 18:30 in Match 1\": {\"printouts\": {\"Has_player_left\": [\"herO\"], \"Has_player_right\": [\"Leenock\"], \"Has_player_left_race\": [\"p\"], \"Has_player_right_race\": [\"z\"], \"Has_player_left_score\": [2], \"Has_player_right_score\": [1]}, \"fulltext\": \"2016 Global StarCraft II League Season 1/Code S#Match herO vs Leenock at February 19, 2016 - 18:30 in Match 1\", \"fullurl\": \"https://liquipedia.net/starcraft2/2016_Global_StarCraft_II_League_Season_1/Code_S#Match_herO_vs_Leenock_at_February_19.2C_2016_-_18:30_in_Match_1\", \"namespace\": 0, \"exists\": \"1\", \"displaytitle\": \"2016 Global StarCraft II League Season 1: Code S\"}, \"2016 Global StarCraft II League Season 1/Code S#Match herO vs Seed at February 19, 2016 - 18:30 in Match 5\": {\"printouts\": {\"Has_player_left\": [\"herO\"], \"Has_player_right\": [\"Seed\"], \"Has_player_left_race\": [\"p\"], \"Has_player_right_race\": [\"p\"], \"Has_player_left_score\": [2], \"Has_player_right_score\": [0]}, \"fulltext\": \"2016 Global StarCraft II League Season 1/Code S#Match herO vs Seed at February 19, 2016 - 18:30 in Match 5\", \"fullurl\": \"https://liquipedia.net/starcraft2/2016_Global_StarCraft_II_League_Season_1/Code_S#Match_herO_vs_Seed_at_February_19.2C_2016_-_18:30_in_Match_5\", \"namespace\": 0, \"exists\": \"1\", \"displaytitle\": \"2016 Global StarCraft II League Season 1: Code S\"}, \"2016 Global StarCraft II League Season 1/Code S#Match herO vs SpeeD at April 1, 2016 - 18:30 in Match 1\": {\"printouts\": {\"Has_player_left\": [\"herO\"], \"Has_player_right\": [\"SpeeD\"], \"Has_player_left_race\": [\"p\"], \"Has_player_right_race\": [\"t\"], \"Has_player_left_score\": [2], \"Has_player_right_score\": [0]}, \"fulltext\": \"2016 Global StarCraft II League Season 1/Code S#Match herO vs SpeeD at April 1, 2016 - 18:30 in Match 1\", \"fullurl\": \"https://liquipedia.net/starcraft2/2016_Global_StarCraft_II_League_Season_1/Code_S#Match_herO_vs_SpeeD_at_April_1.2C_2016_-_18:30_in_Match_1\", \"namespace\": 0, \"exists\": \"1\", \"displaytitle\": \"2016 Global StarCraft II League Season 1: Code S\"}, \"2016 Global StarCraft II League Season 1/Code S#Match herO vs Trap at April 1, 2016 - 18:30 in Match 3\": {\"printouts\": {\"Has_player_left\": [\"herO\"], \"Has_player_right\": [\"Trap\"], \"Has_player_left_race\": [\"p\"], \"Has_player_right_race\": [\"p\"], \"Has_player_left_score\": [2], \"Has_player_right_score\": [1]}, \"fulltext\": \"2016 Global StarCraft II League Season 1/Code S#Match herO vs Trap at April 1, 2016 - 18:30 in Match 3\", \"fullurl\": \"https://liquipedia.net/starcraft2/2016_Global_StarCraft_II_League_Season_1/Code_S#Match_herO_vs_Trap_at_April_1.2C_2016_-_18:30_in_Match_3\", \"namespace\": 0, \"exists\": \"1\", \"displaytitle\": \"2016 Global StarCraft II League Season 1: Code S\"}, \"2016 Global StarCraft II League Season 1/Code S#Match soO vs Cure at April 2, 2016 - 18:30 in Match 5\": {\"printouts\": {\"Has_player_left\": [\"soO\"], \"Has_player_right\": [\"Cure\"], \"Has_player_left_race\": [\"z\"], \"Has_player_right_race\": [\"t\"], \"Has_player_left_score\": [0], \"Has_player_right_score\": [2]}, \"fulltext\": \"2016 Global StarCraft II League Season 1/Code S#Match soO vs Cure at April 2, 2016 - 18:30 in Match 5\", \"fullurl\": \"https://liquipedia.net/starcraft2/2016_Global_StarCraft_II_League_Season_1/Code_S#Match_soO_vs_Cure_at_April_2.2C_2016_-_18:30_in_Match_5\", \"namespace\": 0, \"exists\": \"1\", \"displaytitle\": \"2016 Global StarCraft II League Season 1: Code S\"}, \"2016 Global StarCraft II League Season 1/Code S#Match soO vs DongRaeGu at March 11, 2016 - 18:30 in Match 5\": {\"printouts\": {\"Has_player_left\": [\"soO\"], \"Has_player_right\": [\"DongRaeGu\"], \"Has_player_left_race\": [\"z\"], \"Has_player_right_race\": [\"z\"], \"Has_player_left_score\": [2], \"Has_player_right_score\": [1]}, \"fulltext\": \"2016 Global StarCraft II League Season 1/Code S#Match soO vs DongRaeGu at March 11, 2016 - 18:30 in Match 5\", \"fullurl\": \"https://liquipedia.net/starcraft2/2016_Global_StarCraft_II_League_Season_1/Code_S#Match_soO_vs_DongRaeGu_at_March_11.2C_2016_-_18:30_in_Match_5\", \"namespace\": 0, \"exists\": \"1\", \"displaytitle\": \"2016 Global StarCraft II League Season 1: Code S\"}, \"2016 Global StarCraft II League Season 1/Code S#Match soO vs Zest at April 2, 2016 - 18:30 in Match 3\": {\"printouts\": {\"Has_player_left\": [\"soO\"], \"Has_player_right\": [\"Zest\"], \"Has_player_left_race\": [\"z\"], \"Has_player_right_race\": [\"p\"], \"Has_player_left_score\": [0], \"Has_player_right_score\": [2]}, \"fulltext\": \"2016 Global StarCraft II League Season 1/Code S#Match soO vs Zest at April 2, 2016 - 18:30 in Match 3\", \"fullurl\": \"https://liquipedia.net/starcraft2/2016_Global_StarCraft_II_League_Season_1/Code_S#Match_soO_vs_Zest_at_April_2.2C_2016_-_18:30_in_Match_3\", \"namespace\": 0, \"exists\": \"1\", \"displaytitle\": \"2016 Global StarCraft II League Season 1: Code S\"}}, \"serializer\": \"SMW\\\\Serializers\\\\QueryResultSerializer\", \"version\": 2, \"meta\": {\"hash\": \"95a15ad44b68a35c6e4452690d966979\", \"count\": 67, \"offset\": 0, \"source\": \"\", \"time\": \"0.050404\"}}}\n"
    }
   ],
   "source": [
    "obj = json.loads(response.text)\n",
    "obj_formatted = json.dumps(obj)\n",
    "print(obj_formatted)"
   ]
  },
  {
   "cell_type": "code",
   "execution_count": null,
   "metadata": {},
   "outputs": [],
   "source": [
    "# can process based on date"
   ]
  },
  {
   "cell_type": "code",
   "execution_count": 13,
   "metadata": {},
   "outputs": [
    {
     "output_type": "execute_result",
     "data": {
      "text/plain": "dict"
     },
     "metadata": {},
     "execution_count": 13
    }
   ],
   "source": [
    "type(obj)"
   ]
  },
  {
   "cell_type": "code",
   "execution_count": 16,
   "metadata": {},
   "outputs": [
    {
     "output_type": "execute_result",
     "data": {
      "text/plain": "dict_keys(['warnings', 'query'])"
     },
     "metadata": {},
     "execution_count": 16
    }
   ],
   "source": [
    "obj.keys()"
   ]
  },
  {
   "cell_type": "code",
   "execution_count": 18,
   "metadata": {},
   "outputs": [
    {
     "output_type": "execute_result",
     "data": {
      "text/plain": "dict_keys(['printrequests', 'results', 'serializer', 'version', 'meta'])"
     },
     "metadata": {},
     "execution_count": 18
    }
   ],
   "source": [
    "obj['query'].keys()"
   ]
  },
  {
   "cell_type": "code",
   "execution_count": 34,
   "metadata": {},
   "outputs": [
    {
     "output_type": "execute_result",
     "data": {
      "text/plain": "'2016 Global StarCraft II League Season 1/Code S#Match Bunny vs MyuNgSiK at April 8, 2016 - 18:30 in Match 4'"
     },
     "metadata": {},
     "execution_count": 34
    }
   ],
   "source": [
    "key1 = list(obj['query']['results'].keys())[0]\n",
    "key1"
   ]
  },
  {
   "cell_type": "code",
   "execution_count": 90,
   "metadata": {},
   "outputs": [
    {
     "output_type": "execute_result",
     "data": {
      "text/plain": "67"
     },
     "metadata": {},
     "execution_count": 90
    }
   ],
   "source": [
    "len(obj['query']['results'].keys())"
   ]
  },
  {
   "cell_type": "code",
   "execution_count": 44,
   "metadata": {},
   "outputs": [
    {
     "output_type": "execute_result",
     "data": {
      "text/plain": "'4'"
     },
     "metadata": {},
     "execution_count": 44
    }
   ],
   "source": [
    "# Find match string\n",
    "match_pattern = 'Match \\d'\n",
    "match_re = re.compile(match_pattern)\n",
    "test_match = match_re.search(key1)\n",
    "test_match.group()[-1] # grab match number"
   ]
  },
  {
   "cell_type": "code",
   "execution_count": 74,
   "metadata": {},
   "outputs": [
    {
     "output_type": "error",
     "ename": "SyntaxError",
     "evalue": "unexpected character after line continuation character (<ipython-input-74-13b71ead9389>, line 1)",
     "traceback": [
      "\u001b[1;36m  File \u001b[1;32m\"<ipython-input-74-13b71ead9389>\"\u001b[1;36m, line \u001b[1;32m1\u001b[0m\n\u001b[1;33m    (\\s\\d{1,2},\\s\\d{4})\u001b[0m\n\u001b[1;37m                       ^\u001b[0m\n\u001b[1;31mSyntaxError\u001b[0m\u001b[1;31m:\u001b[0m unexpected character after line continuation character\n"
     ]
    }
   ],
   "source": [
    "(\\s\\d{1,2},\\s\\d{4})"
   ]
  },
  {
   "cell_type": "code",
   "execution_count": 79,
   "metadata": {},
   "outputs": [
    {
     "output_type": "execute_result",
     "data": {
      "text/plain": "'April 8, 2016'"
     },
     "metadata": {},
     "execution_count": 79
    }
   ],
   "source": [
    "date_match = '(January|February|March|April|May|June|July|August|September|October|November|December)\\s\\d{1,2},\\s\\d{4}'\n",
    "date_re = re.compile(date_match)\n",
    "date_re_match = date_re.search(key1)\n",
    "date_re_match.group()"
   ]
  },
  {
   "cell_type": "code",
   "execution_count": 87,
   "metadata": {},
   "outputs": [
    {
     "output_type": "execute_result",
     "data": {
      "text/plain": "'2016'"
     },
     "metadata": {},
     "execution_count": 87
    }
   ],
   "source": [
    "date_re_match.group()[-4:]"
   ]
  },
  {
   "cell_type": "code",
   "execution_count": 43,
   "metadata": {},
   "outputs": [
    {
     "output_type": "execute_result",
     "data": {
      "text/plain": "'2016'"
     },
     "metadata": {},
     "execution_count": 43
    }
   ],
   "source": [
    "year_match = '[0-9]{4}'\n",
    "year_re = re.compile(year_match)\n",
    "year_re_match = year_re.search(key1)\n",
    "year_re_match.group()"
   ]
  },
  {
   "cell_type": "code",
   "execution_count": 97,
   "metadata": {},
   "outputs": [
    {
     "output_type": "execute_result",
     "data": {
      "text/plain": "'1'"
     },
     "metadata": {},
     "execution_count": 97
    }
   ],
   "source": [
    "season_match = 'Season\\s\\d'\n",
    "season_re = re.compile(season_match)\n",
    "season_re_match = season_re.search(key1)\n",
    "season_re_match.group()[-1]"
   ]
  },
  {
   "cell_type": "code",
   "execution_count": null,
   "metadata": {},
   "outputs": [],
   "source": []
  },
  {
   "cell_type": "code",
   "execution_count": 35,
   "metadata": {},
   "outputs": [
    {
     "output_type": "execute_result",
     "data": {
      "text/plain": "{'printouts': {'Has_player_left': ['Bunny'],\n  'Has_player_right': ['MyuNgSiK'],\n  'Has_player_left_race': ['t'],\n  'Has_player_right_race': ['p'],\n  'Has_player_left_score': [1],\n  'Has_player_right_score': [2]},\n 'fulltext': '2016 Global StarCraft II League Season 1/Code S#Match Bunny vs MyuNgSiK at April 8, 2016 - 18:30 in Match 4',\n 'fullurl': 'https://liquipedia.net/starcraft2/2016_Global_StarCraft_II_League_Season_1/Code_S#Match_Bunny_vs_MyuNgSiK_at_April_8.2C_2016_-_18:30_in_Match_4',\n 'namespace': 0,\n 'exists': '1',\n 'displaytitle': '2016 Global StarCraft II League Season 1: Code S'}"
     },
     "metadata": {},
     "execution_count": 35
    }
   ],
   "source": [
    "obj['query']['results'][key1]"
   ]
  },
  {
   "cell_type": "code",
   "execution_count": 83,
   "metadata": {},
   "outputs": [
    {
     "output_type": "execute_result",
     "data": {
      "text/plain": "{'Has_player_left': ['Bunny'],\n 'Has_player_right': ['MyuNgSiK'],\n 'Has_player_left_race': ['t'],\n 'Has_player_right_race': ['p'],\n 'Has_player_left_score': [1],\n 'Has_player_right_score': [2]}"
     },
     "metadata": {},
     "execution_count": 83
    }
   ],
   "source": [
    "obj['query']['results'][key1]['printouts']"
   ]
  },
  {
   "cell_type": "code",
   "execution_count": 82,
   "metadata": {},
   "outputs": [
    {
     "output_type": "execute_result",
     "data": {
      "text/plain": "'Bunny'"
     },
     "metadata": {},
     "execution_count": 82
    }
   ],
   "source": [
    "obj['query']['results'][key1]['printouts']['Has_player_left'][0]"
   ]
  },
  {
   "cell_type": "code",
   "execution_count": null,
   "metadata": {},
   "outputs": [],
   "source": [
    "# 2D dataframe\n",
    "# sort by date\n",
    "# check total matches played for group # or playoffs"
   ]
  },
  {
   "cell_type": "code",
   "execution_count": 84,
   "metadata": {},
   "outputs": [],
   "source": [
    "gsl_results = list()"
   ]
  },
  {
   "cell_type": "code",
   "execution_count": 88,
   "metadata": {},
   "outputs": [],
   "source": [
    "def get_date(key_string):\n",
    "    date_match = '(January|February|March|April|May|June|July|August|September|October|November|December)\\s\\d{1,2},\\s\\d{4}'\n",
    "    date_re = re.compile(date_match)\n",
    "    date_re_match = date_re.search(key_string)\n",
    "\n",
    "    date = date_re_match.group()\n",
    "    year = date[-4:]\n",
    "\n",
    "    return date, year"
   ]
  },
  {
   "cell_type": "code",
   "execution_count": 89,
   "metadata": {},
   "outputs": [],
   "source": [
    "def get_match_no(key_string):\n",
    "    match_pattern = 'Match \\d'\n",
    "    match_re = re.compile(match_pattern)\n",
    "    test_match = match_re.search(key_string)\n",
    "    match_no = test_match.group()[-1] # grab match number\n",
    "\n",
    "    return match_no"
   ]
  },
  {
   "cell_type": "code",
   "execution_count": 98,
   "metadata": {},
   "outputs": [],
   "source": [
    "def get_season(key_string):\n",
    "    season_match = 'Season\\s\\d'\n",
    "    season_re = re.compile(season_match)\n",
    "    season_re_match = season_re.search(key_string)\n",
    "    season = season_re_match.group()[-1]\n",
    "\n",
    "    return season"
   ]
  },
  {
   "cell_type": "code",
   "execution_count": 111,
   "metadata": {},
   "outputs": [
    {
     "output_type": "execute_result",
     "data": {
      "text/plain": "'Bunny'"
     },
     "metadata": {},
     "execution_count": 111
    }
   ],
   "source": [
    "obj['query']['results'][key1]['printouts']['Has_player_left'][0]"
   ]
  },
  {
   "cell_type": "code",
   "execution_count": 114,
   "metadata": {},
   "outputs": [
    {
     "output_type": "execute_result",
     "data": {
      "text/plain": "'MyuNgSiK'"
     },
     "metadata": {},
     "execution_count": 114
    }
   ],
   "source": [
    "obj['query']['results'][key1]['printouts']['Has_player_right'][0]"
   ]
  },
  {
   "cell_type": "code",
   "execution_count": 142,
   "metadata": {},
   "outputs": [],
   "source": [
    "def parse_match(input_data, match):\n",
    "    data = dict()\n",
    "    data['player_left'] = input_data['query']['results'][match]['printouts']['Has_player_left'][0]\n",
    "    data['player_left_race'] = input_data['query']['results'][match]['printouts']['Has_player_left_race'][0]\n",
    "    data['player_right'] = input_data['query']['results'][match]['printouts']['Has_player_right'][0]\n",
    "    data['player_right_race'] = input_data['query']['results'][match]['printouts']['Has_player_right_race'][0]\n",
    "    # grab score\n",
    "    score_left = input_data['query']['results'][match]['printouts']['Has_player_left_score'][0]\n",
    "    score_right = input_data['query']['results'][match]['printouts']['Has_player_right_score'][0]\n",
    "    # input score\n",
    "    score = str(score_left) + '-' + str(score_right)\n",
    "    #print(score)\n",
    "    data['score'] = score\n",
    "\n",
    "    if int(score_left) > int(score_right):\n",
    "        data['winner'] = data['player_left']\n",
    "        data['loser'] = data['player_right']\n",
    "    else:\n",
    "        data['winner'] = data['player_right']\n",
    "        data['loser'] = data['player_left'] \n",
    "\n",
    "    data['match_no'] = get_match_no(match)\n",
    "    date, year = get_date(match)\n",
    "    data['match_date'] = date\n",
    "    data['year'] = year\n",
    "\n",
    "    data['season'] = get_season(match)\n",
    "\n",
    "    return data"
   ]
  },
  {
   "cell_type": "code",
   "execution_count": 128,
   "metadata": {},
   "outputs": [
    {
     "output_type": "stream",
     "name": "stdout",
     "text": "1-2\n"
    }
   ],
   "source": [
    "test_func = parse_match(obj, key1)"
   ]
  },
  {
   "cell_type": "code",
   "execution_count": 129,
   "metadata": {},
   "outputs": [
    {
     "output_type": "stream",
     "name": "stdout",
     "text": "{'player_left': 'Bunny', 'player_left_race': 't', 'player_right': 'MyuNgSiK', 'player_right_race': 'p', 'score': '1-2', 'winner': 'MyuNgSiK', 'loser': 'MyuNgSiK', 'match_no': '4', 'match_date': 'April 8, 2016', 'year': '2016', 'season': '1'}\n"
    }
   ],
   "source": [
    "print(test_func)"
   ]
  },
  {
   "cell_type": "code",
   "execution_count": 143,
   "metadata": {},
   "outputs": [],
   "source": [
    "gsl_data = list()\n",
    "for match in list(obj['query']['results'].keys()):\n",
    "    gsl_data.append(parse_match(obj, match))"
   ]
  },
  {
   "cell_type": "code",
   "execution_count": 133,
   "metadata": {},
   "outputs": [
    {
     "output_type": "execute_result",
     "data": {
      "text/plain": "'2016 Global StarCraft II League Season 1/Code S#Match Bunny vs MyuNgSiK at April 8, 2016 - 18:30 in Match 4'"
     },
     "metadata": {},
     "execution_count": 133
    }
   ],
   "source": [
    "list(obj['query']['results'].keys())[0]"
   ]
  },
  {
   "cell_type": "code",
   "execution_count": 136,
   "metadata": {},
   "outputs": [
    {
     "output_type": "execute_result",
     "data": {
      "text/plain": "{'player_left': 'Bunny',\n 'player_left_race': 't',\n 'player_right': 'MyuNgSiK',\n 'player_right_race': 'p',\n 'score': '1-2',\n 'winner': 'MyuNgSiK',\n 'loser': 'MyuNgSiK',\n 'match_no': '4',\n 'match_date': 'April 8, 2016',\n 'year': '2016',\n 'season': '1'}"
     },
     "metadata": {},
     "execution_count": 136
    }
   ],
   "source": [
    "parse_match(obj, list(obj['query']['results'].keys())[0])"
   ]
  },
  {
   "cell_type": "code",
   "execution_count": 144,
   "metadata": {},
   "outputs": [
    {
     "output_type": "execute_result",
     "data": {
      "text/plain": "  player_left player_left_race player_right player_right_race score    winner  \\\n0       Bunny                t     MyuNgSiK                 p   1-2  MyuNgSiK   \n1       Bunny                t       Symbol                 z   2-0     Bunny   \n2     Classic                p        SpeeD                 t   1-2     SpeeD   \n3     Creator                p      Classic                 p   1-2   Classic   \n4        Cure                t           TY                 t   0-4        TY   \n\n     loser match_no         match_date  year season  \n0    Bunny        4      April 8, 2016  2016      1  \n1   Symbol        4  February 24, 2016  2016      1  \n2  Classic        5      March 4, 2016  2016      1  \n3  Creator        2      March 4, 2016  2016      1  \n4     Cure        1     April 20, 2016  2016      1  ",
      "text/html": "<div>\n<style scoped>\n    .dataframe tbody tr th:only-of-type {\n        vertical-align: middle;\n    }\n\n    .dataframe tbody tr th {\n        vertical-align: top;\n    }\n\n    .dataframe thead th {\n        text-align: right;\n    }\n</style>\n<table border=\"1\" class=\"dataframe\">\n  <thead>\n    <tr style=\"text-align: right;\">\n      <th></th>\n      <th>player_left</th>\n      <th>player_left_race</th>\n      <th>player_right</th>\n      <th>player_right_race</th>\n      <th>score</th>\n      <th>winner</th>\n      <th>loser</th>\n      <th>match_no</th>\n      <th>match_date</th>\n      <th>year</th>\n      <th>season</th>\n    </tr>\n  </thead>\n  <tbody>\n    <tr>\n      <th>0</th>\n      <td>Bunny</td>\n      <td>t</td>\n      <td>MyuNgSiK</td>\n      <td>p</td>\n      <td>1-2</td>\n      <td>MyuNgSiK</td>\n      <td>Bunny</td>\n      <td>4</td>\n      <td>April 8, 2016</td>\n      <td>2016</td>\n      <td>1</td>\n    </tr>\n    <tr>\n      <th>1</th>\n      <td>Bunny</td>\n      <td>t</td>\n      <td>Symbol</td>\n      <td>z</td>\n      <td>2-0</td>\n      <td>Bunny</td>\n      <td>Symbol</td>\n      <td>4</td>\n      <td>February 24, 2016</td>\n      <td>2016</td>\n      <td>1</td>\n    </tr>\n    <tr>\n      <th>2</th>\n      <td>Classic</td>\n      <td>p</td>\n      <td>SpeeD</td>\n      <td>t</td>\n      <td>1-2</td>\n      <td>SpeeD</td>\n      <td>Classic</td>\n      <td>5</td>\n      <td>March 4, 2016</td>\n      <td>2016</td>\n      <td>1</td>\n    </tr>\n    <tr>\n      <th>3</th>\n      <td>Creator</td>\n      <td>p</td>\n      <td>Classic</td>\n      <td>p</td>\n      <td>1-2</td>\n      <td>Classic</td>\n      <td>Creator</td>\n      <td>2</td>\n      <td>March 4, 2016</td>\n      <td>2016</td>\n      <td>1</td>\n    </tr>\n    <tr>\n      <th>4</th>\n      <td>Cure</td>\n      <td>t</td>\n      <td>TY</td>\n      <td>t</td>\n      <td>0-4</td>\n      <td>TY</td>\n      <td>Cure</td>\n      <td>1</td>\n      <td>April 20, 2016</td>\n      <td>2016</td>\n      <td>1</td>\n    </tr>\n  </tbody>\n</table>\n</div>"
     },
     "metadata": {},
     "execution_count": 144
    }
   ],
   "source": [
    "df = pd.DataFrame(gsl_data)\n",
    "df.head()"
   ]
  },
  {
   "cell_type": "code",
   "execution_count": 147,
   "metadata": {},
   "outputs": [
    {
     "output_type": "execute_result",
     "data": {
      "text/plain": "player_left          object\nplayer_left_race     object\nplayer_right         object\nplayer_right_race    object\nscore                object\nwinner               object\nloser                object\nmatch_no             object\nmatch_date           object\nyear                 object\nseason               object\ndtype: object"
     },
     "metadata": {},
     "execution_count": 147
    }
   ],
   "source": [
    "df.dtypes"
   ]
  },
  {
   "cell_type": "code",
   "execution_count": 149,
   "metadata": {},
   "outputs": [],
   "source": [
    "df.match_date = pd.to_datetime(df.match_date)\n"
   ]
  },
  {
   "cell_type": "code",
   "execution_count": 151,
   "metadata": {},
   "outputs": [],
   "source": [
    "df = df.sort_values(by=['match_date'])"
   ]
  },
  {
   "cell_type": "code",
   "execution_count": 152,
   "metadata": {},
   "outputs": [
    {
     "output_type": "execute_result",
     "data": {
      "text/plain": "   player_left player_left_race player_right player_right_race score   winner  \\\n33       Rogue                z      Journey                 t   0-2  Journey   \n50       TaeJa                t         Zest                 p   0-2     Zest   \n34       Rogue                z        TaeJa                 t   0-2    TaeJa   \n22     Journey                t        TaeJa                 t   1-2    TaeJa   \n23     Journey                t         Zest                 p   1-2     Zest   \n\n      loser match_no match_date  year season  \n33    Rogue        1 2016-02-17  2016      1  \n50    TaeJa        2 2016-02-17  2016      1  \n34    Rogue        4 2016-02-17  2016      1  \n22  Journey        5 2016-02-17  2016      1  \n23  Journey        3 2016-02-17  2016      1  ",
      "text/html": "<div>\n<style scoped>\n    .dataframe tbody tr th:only-of-type {\n        vertical-align: middle;\n    }\n\n    .dataframe tbody tr th {\n        vertical-align: top;\n    }\n\n    .dataframe thead th {\n        text-align: right;\n    }\n</style>\n<table border=\"1\" class=\"dataframe\">\n  <thead>\n    <tr style=\"text-align: right;\">\n      <th></th>\n      <th>player_left</th>\n      <th>player_left_race</th>\n      <th>player_right</th>\n      <th>player_right_race</th>\n      <th>score</th>\n      <th>winner</th>\n      <th>loser</th>\n      <th>match_no</th>\n      <th>match_date</th>\n      <th>year</th>\n      <th>season</th>\n    </tr>\n  </thead>\n  <tbody>\n    <tr>\n      <th>33</th>\n      <td>Rogue</td>\n      <td>z</td>\n      <td>Journey</td>\n      <td>t</td>\n      <td>0-2</td>\n      <td>Journey</td>\n      <td>Rogue</td>\n      <td>1</td>\n      <td>2016-02-17</td>\n      <td>2016</td>\n      <td>1</td>\n    </tr>\n    <tr>\n      <th>50</th>\n      <td>TaeJa</td>\n      <td>t</td>\n      <td>Zest</td>\n      <td>p</td>\n      <td>0-2</td>\n      <td>Zest</td>\n      <td>TaeJa</td>\n      <td>2</td>\n      <td>2016-02-17</td>\n      <td>2016</td>\n      <td>1</td>\n    </tr>\n    <tr>\n      <th>34</th>\n      <td>Rogue</td>\n      <td>z</td>\n      <td>TaeJa</td>\n      <td>t</td>\n      <td>0-2</td>\n      <td>TaeJa</td>\n      <td>Rogue</td>\n      <td>4</td>\n      <td>2016-02-17</td>\n      <td>2016</td>\n      <td>1</td>\n    </tr>\n    <tr>\n      <th>22</th>\n      <td>Journey</td>\n      <td>t</td>\n      <td>TaeJa</td>\n      <td>t</td>\n      <td>1-2</td>\n      <td>TaeJa</td>\n      <td>Journey</td>\n      <td>5</td>\n      <td>2016-02-17</td>\n      <td>2016</td>\n      <td>1</td>\n    </tr>\n    <tr>\n      <th>23</th>\n      <td>Journey</td>\n      <td>t</td>\n      <td>Zest</td>\n      <td>p</td>\n      <td>1-2</td>\n      <td>Zest</td>\n      <td>Journey</td>\n      <td>3</td>\n      <td>2016-02-17</td>\n      <td>2016</td>\n      <td>1</td>\n    </tr>\n  </tbody>\n</table>\n</div>"
     },
     "metadata": {},
     "execution_count": 152
    }
   ],
   "source": [
    "df.head()"
   ]
  },
  {
   "cell_type": "code",
   "execution_count": 153,
   "metadata": {},
   "outputs": [],
   "source": [
    "df.to_excel('prelim_results.xlsx')"
   ]
  },
  {
   "cell_type": "code",
   "execution_count": null,
   "metadata": {},
   "outputs": [],
   "source": [
    "# Check if herO has page\n",
    "# check URL of page\n",
    "# Label the round ro32/24, ro16, playoffs\n",
    "# sort by date, then match number\n",
    "# filter matches 1/2 and then 5 to see if they match\n",
    "# get counts \n",
    "# add column for whether match 1/2 winner won match 5"
   ]
  }
 ],
 "metadata": {
  "language_info": {
   "codemirror_mode": {
    "name": "ipython",
    "version": 3
   },
   "file_extension": ".py",
   "mimetype": "text/x-python",
   "name": "python",
   "nbconvert_exporter": "python",
   "pygments_lexer": "ipython3",
   "version": "3.8.2-final"
  },
  "orig_nbformat": 2,
  "kernelspec": {
   "name": "python38264bit6856d88cfbdd4470a5dbe9825bc003a0",
   "display_name": "Python 3.8.2 64-bit"
  }
 },
 "nbformat": 4,
 "nbformat_minor": 2
}